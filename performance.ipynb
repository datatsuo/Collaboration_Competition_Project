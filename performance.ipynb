{
 "cells": [
  {
   "cell_type": "markdown",
   "metadata": {},
   "source": [
    "This notebook is for displaying the performance of the trained model.  "
   ]
  },
  {
   "cell_type": "code",
   "execution_count": 1,
   "metadata": {
    "collapsed": true
   },
   "outputs": [],
   "source": [
    "# import libraries\n",
    "from unityagents import UnityEnvironment\n",
    "import numpy as np\n",
    "from maddpg import MADDPG_Agent\n",
    "import torch\n",
    "import matplotlib.pyplot as plt\n",
    "%matplotlib inline "
   ]
  },
  {
   "cell_type": "code",
   "execution_count": 2,
   "metadata": {},
   "outputs": [
    {
     "name": "stderr",
     "output_type": "stream",
     "text": [
      "INFO:unityagents:\n",
      "'Academy' started successfully!\n",
      "Unity Academy name: Academy\n",
      "        Number of Brains: 1\n",
      "        Number of External Brains : 1\n",
      "        Lesson number : 0\n",
      "        Reset Parameters :\n",
      "\t\t\n",
      "Unity brain name: TennisBrain\n",
      "        Number of Visual Observations (per agent): 0\n",
      "        Vector Observation space type: continuous\n",
      "        Vector Observation space size (per agent): 8\n",
      "        Number of stacked Vector Observation: 3\n",
      "        Vector Action space type: continuous\n",
      "        Vector Action space size (per agent): 2\n",
      "        Vector Action descriptions: , \n"
     ]
    }
   ],
   "source": [
    "# Introduce the environment. \n",
    "# Note that here the Unity app for Mac is used, while for training the Linux version \n",
    "# without display is used in Tennis.ipynb since the training was done at AWS. \n",
    "# Please change `file_name` below depending on which OS and Unity app are used. \n",
    "\n",
    "env = UnityEnvironment(file_name=\"Tennis.app\", seed= 2)\n",
    "brain_name = env.brain_names[0]\n",
    "brain = env.brains[brain_name]"
   ]
  },
  {
   "cell_type": "code",
   "execution_count": 3,
   "metadata": {
    "collapsed": true
   },
   "outputs": [],
   "source": [
    "# read the trained weights to the MADDPG agent\n",
    "\n",
    "# MADDPG agent\n",
    "magent = MADDPG_Agent(24, 2, 2, 1)\n",
    "\n",
    "# location of the weights\n",
    "file_name_weights_actor1 = 'weights/check_point_agent1_actor.pth'\n",
    "file_name_weights_critic1 = 'weights/check_point_agent1_critic.pth'\n",
    "file_name_weights_actor2 = 'weights/check_point_agent2_actor.pth'\n",
    "file_name_weights_critic2 = 'weights/check_point_agent2_critic.pth'\n",
    "\n",
    "# load the weights \n",
    "for i, ddpg_agent in enumerate(magent.maddpg_agents):\n",
    "    if i==0:\n",
    "        ddpg_agent.actor_local.load_state_dict(torch.load(file_name_weights_actor1, map_location=lambda storage, loc: storage))\n",
    "        ddpg_agent.critic_local.load_state_dict(torch.load(file_name_weights_critic1, map_location=lambda storage, loc: storage))  \n",
    "    elif i==1:\n",
    "        ddpg_agent.actor_local.load_state_dict(torch.load(file_name_weights_actor2, map_location=lambda storage, loc: storage))\n",
    "        ddpg_agent.critic_local.load_state_dict(torch.load(file_name_weights_critic2, map_location=lambda storage, loc: storage))    "
   ]
  },
  {
   "cell_type": "code",
   "execution_count": 4,
   "metadata": {},
   "outputs": [
    {
     "name": "stdout",
     "output_type": "stream",
     "text": [
      "episode 1, score: 0.09\n",
      "episode 2, score: 1.70\n"
     ]
    }
   ],
   "source": [
    "# run several episodes to see the performance of the trained agent \n",
    "\n",
    "for i_episode in range(1, 10+1):\n",
    "\n",
    "    env_info = env.reset(train_mode=False)[brain_name]     # reset the environment  \n",
    "    states = env_info.vector_observations                  # get the current state (for each agent)\n",
    "    scores = np.zeros(2)                                   # initialize the score (for each agent)\n",
    "    magent.reset()                                         # reset noise\n",
    "    \n",
    "    while True:\n",
    "\n",
    "        actions= magent.act_all(states, add_noise = False) # select all actions \n",
    "        env_info = env.step(actions)[brain_name]           # send all actions to the environment\n",
    "        next_states = env_info.vector_observations         # get next state (for each agent)\n",
    "        rewards = env_info.rewards                         # get reward (for each agent)\n",
    "        dones = env_info.local_done                        # see if episode finished\n",
    "        magent.step(states, actions, rewards, next_states, dones, True) # update the multi-agent    \n",
    "        scores += rewards                                  # update the score (for each agent)\n",
    "        states = next_states                               # roll over states to next time step\n",
    "        if np.any(dones):                                  # exit loop if the episode is finished\n",
    "            break\n",
    "            \n",
    "    print('episode {}, score: {:.2f}'.format(i_episode, np.max(scores)))\n",
    "    \n",
    "    # once the score reaches more than 1.0, finish evaluating the performance\n",
    "    if np.max(scores) > 1.0:\n",
    "        break\n"
   ]
  },
  {
   "cell_type": "code",
   "execution_count": 5,
   "metadata": {
    "collapsed": true
   },
   "outputs": [],
   "source": [
    "env.close()"
   ]
  }
 ],
 "metadata": {
  "kernelspec": {
   "display_name": "drlnd",
   "language": "python",
   "name": "drlnd"
  },
  "language_info": {
   "codemirror_mode": {
    "name": "ipython",
    "version": 3
   },
   "file_extension": ".py",
   "mimetype": "text/x-python",
   "name": "python",
   "nbconvert_exporter": "python",
   "pygments_lexer": "ipython3",
   "version": "3.6.1"
  }
 },
 "nbformat": 4,
 "nbformat_minor": 2
}
